{
 "cells": [
  {
   "cell_type": "markdown",
   "metadata": {},
   "source": [
    "# Neutrino Oscillations: Mathematical Basis <a class=\"anchor\" id=\"top\"></a>\n",
    "Author: Lodovico <br>\n",
    "Last update: 16/02"
   ]
  },
  {
   "cell_type": "markdown",
   "metadata": {},
   "source": [
    "## Table of Contents\n",
    "\n",
    "* [Introduction](#intro)\n",
    "* [Define constants](#constants)\n",
    "* [2-flavours](#2-flavours)\n",
    "* [3-flavours](#3-flavours)\n",
    "* [Probability function](#prob)\n",
    "* [Neutrinos in matter (MSW effect)](#MSW)\n",
    "* [References](#references)"
   ]
  },
  {
   "cell_type": "markdown",
   "metadata": {},
   "source": [
    "## Introduction <a class=\"anchor\" id=\"intro\"></a>\n",
    "In this notebook, I implement the mathematics of neutrino flavours as a superposition of mass eigenstates. Moreover, I introduce the time evolution of the different neutrino flavours, which leads to the phenomenon of neutrino oscillations. This is done both for the 2-flavours and 3-flavours cases. Finally, I calculate the probability that a neutrino alpha becomes a neutrino beta after a certain distance and given the energy at which it is produced.\n",
    "\n",
    "Use this code as the basis of any future work, but please do not change anything before speaking to me (Lodovico) as we need to be careful to units, mathematics and experimental bounds. "
   ]
  },
  {
   "cell_type": "code",
   "execution_count": 2,
   "metadata": {},
   "outputs": [],
   "source": [
    "import numpy as np\n",
    "import matplotlib.pyplot as plt\n",
    "%matplotlib inline"
   ]
  },
  {
   "cell_type": "markdown",
   "metadata": {},
   "source": [
    "## Define constants <a class=\"anchor\" id=\"constants\"></a>\n",
    "\n",
    "Note: we are assuming the normal ordering of the mass eigenstates, i.e. $m_1 < m_2 < m_3$.\n",
    "\n",
    "### Mixing factors\n",
    "We use the most recent data available [[3]](#3). Note that the angle $\\theta_{13}$ and the CP-violating phase $\\delta_{CP}$ have not been measured directly yet. In particular, a slider could be added so that the user can set the value of the phase.\n",
    "\n",
    "### Mass differences\n",
    "These are also the most recent values available [[3]](#3). Only the mass differences are known, not the values of the mass eigenstates themselves. Thus, we need to set a value of the mass $m_1$ and then we assume the mass hierarchy $m_1 < m_2 < m_3$ to find the other masses. The mass hierarchy is not know either. <br>\n",
    "In future work, we should consider having a slider for the mass $m_1$ and the possibility to choose a mass hierarchy with which to work. <br>\n",
    "It is important to note that the mass difference is defined in the following way:\n",
    "$$ \\Delta m_{12}^2 = m_2^2 - m_1^2 $$\n",
    "\n",
    "### Energy values\n",
    "At this stage, for the energy values we use the energy of a neutrino produced inside the Sun in a proton-proton reaction [[1]](#1). However, we plan to have different options from which the user can choose, e.g. nuclear reactor, Sun, atmosphere. <br>\n",
    "To find the energy values of the mass eigenstates, we assume they have the same momenta and that $E \\sim pc$, where $E$ is the energy at which the neutrino is produced.\n",
    "\n",
    "### Majorana phases\n",
    "We are neglecting possible Majorana phases.\n",
    "\n",
    "### Values of important constants\n",
    "The value of the equatioral radius of the Sun is taken from [[6]](#6). The radius of the solar core is approximated to be a quarter of the radius of the sun.\n",
    "\n",
    "### Electron density\n",
    "Assume electron neutrinos are produced at centre of Sun. <br>\n",
    "Mean molecular weight per electron is approximately constant for $0 \\leq r \\leq 0.12$ (in units of Sun radius), so the central value $\\mu_e = 1.69$ is used.<br>\n",
    "Values for the density of the sun are approximate and roughly averaged (bad approximation?).  <br>\n",
    "Initially, the data had been based on figure 7 in [[7]](#7) However, better data is found in [[8]](#8), so that is now used."
   ]
  },
  {
   "cell_type": "code",
   "execution_count": 14,
   "metadata": {},
   "outputs": [
    {
     "name": "stdout",
     "output_type": "stream",
     "text": [
      "2.672547674556213e+28\n"
     ]
    }
   ],
   "source": [
    "# mixing factors (converted from degrees to radians)\n",
    "th12 = np.radians(33.82)\n",
    "th23 = np.radians(48.3)\n",
    "th13 = np.radians(8.61)\n",
    "delta_CP = np.radians(222)\n",
    "\n",
    "# mass differences\n",
    "dm21_sq = 7.39*10**(-5) # eV^2\n",
    "dm32_sq = 2.52*10**(-3) # eV^2\n",
    "\n",
    "# mass eigenstates\n",
    "m1 = 0.01 # eV\n",
    "m2 = np.sqrt(m1*m1 + dm21_sq) # eV\n",
    "m3 = np.sqrt(m2*m2 + dm32_sq) # eV \n",
    "\n",
    "# total mass \n",
    "mtot = m1 + m2 + m3 #eV\n",
    "assert mtot < 0.23, \"Error: total mass not in agreement with experimental bounds\"\n",
    "\n",
    "# calculate third mass difference squared\n",
    "dm31_sq = m3*m3 - m1*m1 # eV^2\n",
    "\n",
    "# set energy values\n",
    "E_sun_pp = 4*10**5 # eV \n",
    "E_atm = 10**11 # eV\n",
    "E_acc = 10**9 #eV\n",
    "\n",
    "# important constants:\n",
    "\n",
    "# speed of light\n",
    "c = 299792.458 # km s^-1 \n",
    "\n",
    "# Planck constant\n",
    "hbar = 6.582119569*10**(-16) # eV*s\n",
    "\n",
    "# Astronomical unit (i.e. the distance between the Sun and the Earth)\n",
    "AU = 149597870.700 # km\n",
    "\n",
    "# Equatorial radius of the Sun\n",
    "r_sun = 696342 # km\n",
    "r_sun_core = 0.12*r_sun # km\n",
    "# Volume sun and core\n",
    "V_sun = 4*np.pi*r_sun*r_sun*r_sun / 3 # km^3\n",
    "V_sun_core = 4*np.pi*r_sun_core*r_sun_core*r_sun_core / 3 # km^3\n",
    "V_rest = V_sun - V_sun_core # km^3\n",
    "\n",
    "# Electron density\n",
    "N0 = 6.02214076*10**23 # Avogadro's number\n",
    "mean_density_sun_core = 113*10**3 # kg m^-3\n",
    "mean_mol_weight_e = 1.69 \n",
    "e_density_sun_core = N0 * mean_density_sun_core / mean_mol_weight_e\n",
    "print(e_density_sun_core)"
   ]
  },
  {
   "cell_type": "markdown",
   "metadata": {},
   "source": [
    "## Oscillation lengths\n",
    "Derivation: <br>\n",
    "$L_{osc} = \\frac{4\\pi \\, E \\, \\hbar c}{\\Delta m^2 \\, c^4} = \\frac{4\\pi \\, E \\, \\times \\, 0.197 \\, \\times \\, 10^9 \\, \\times \\, 10^{-18} [eV] [km]}{\\Delta m^2 \\, c^4} = 4\\pi \\, \\times \\, 0.197 \\, \\times \\, 10^{-9} \\, \\times \\, \\frac{E \\, [eV] [km]}{\\Delta m^2 \\, c^4} \\frac{[eV]}{[eV]} \\approx 2.48 \\, \\times \\, 10^{-9} \\frac{E}{[eV]} \\frac{[eV^2]}{\\Delta m^2 \\, c^4} [km]$. <br>\n",
    "Thus, $\\frac{L_{osc}}{[km]} = 2.48 \\, \\times \\, 10^{-9} \\frac{E}{[eV]} \\frac{[eV^2]}{\\Delta m^2 \\, c^4}$."
   ]
  },
  {
   "cell_type": "code",
   "execution_count": 15,
   "metadata": {},
   "outputs": [
    {
     "name": "stdout",
     "output_type": "stream",
     "text": [
      "The oscillation length of the mass eigenstates m1 and m2 is 13.173970783532535 km\n",
      "The oscillation length of the mass eigenstates m2 and m3 is 0.39365079365079364 km\n",
      "The oscillation length of the mass eigenstates m1 and m3 is 0.38222941471120875 km\n"
     ]
    }
   ],
   "source": [
    "def oscL(E, dm_sq):\n",
    "    \"\"\"Calculates oscillation length from one mass eigenstate i to another mass eigenstate j\n",
    "    Takes as inputs the energy of the neutrino E in eV and the difference in mass squared between the two mass eigenstates in eV\n",
    "    Returns the oscillation length in kilometers\"\"\"\n",
    "    \n",
    "    L = (2.48*10**(-9)) * E / np.abs(dm_sq)\n",
    "    \n",
    "    return L\n",
    "\n",
    "# for solar neutrinos\n",
    "print('The oscillation length of the mass eigenstates m1 and m2 is', oscL(E_sun_pp, dm21_sq), 'km')\n",
    "print('The oscillation length of the mass eigenstates m2 and m3 is', oscL(E_sun_pp, dm32_sq), 'km')\n",
    "print('The oscillation length of the mass eigenstates m1 and m3 is', oscL(E_sun_pp, dm31_sq), 'km')"
   ]
  },
  {
   "cell_type": "markdown",
   "metadata": {},
   "source": [
    "## 2-flavours case <a class=\"anchor\" id=\"2-flavours\"></a>\n",
    "\n",
    "We start with the simpler case of 2-flavours oscillations, to then generalise to the 3-flavours case. <br>\n",
    "The math used is taken from [[2]](#2)."
   ]
  },
  {
   "cell_type": "markdown",
   "metadata": {},
   "source": [
    "### 2-flavours rotational matrix"
   ]
  },
  {
   "cell_type": "code",
   "execution_count": 16,
   "metadata": {},
   "outputs": [],
   "source": [
    "#rotational matrix for 2-flavours case\n",
    "th2f = th12 # set angle for 2-flavours (arbitrary)\n",
    "rot_mat_2f = np.array([[np.cos(th2f), np.sin(th2f)], [-np.sin(th2f), np.cos(th2f)]])\n",
    "\n",
    "mar_2f = np.array([m1, m2]) #mass eigenstates vector"
   ]
  },
  {
   "cell_type": "markdown",
   "metadata": {},
   "source": [
    "## 3-flavours case <a class=\"anchor\" id=\"3-flavours\"></a>\n",
    "The math used is taken from [[2]](#2) and [[4]](#4). Note that we are neglecting possible Majorana phases.\n",
    "\n",
    "<u> Important </u>: there is a mistake in the NPP notes, i.e. reference [[2]](#2), as in the third matrix there should be a negative sign in front of the sine in the second row. "
   ]
  },
  {
   "cell_type": "markdown",
   "metadata": {},
   "source": [
    "### 3-flavour rotational matrix"
   ]
  },
  {
   "cell_type": "code",
   "execution_count": 17,
   "metadata": {},
   "outputs": [],
   "source": [
    "# mass eigenstates vector\n",
    "mar_3f = np.array([m1, m2, m3]) \n",
    "\n",
    "#rotational matrix\n",
    "U1 = np.array([[1, 0, 0], [0, np.cos(th23), np.sin(th23)], [0, -np.sin(th23), np.cos(th23)]]) #first matrix\n",
    "U2 = np.array([[np.cos(th13), 0, np.sin(th13)*np.exp(-1j*delta_CP)], [0, 1, 0], \n",
    "               [-np.sin(th13)*np.exp(1j*delta_CP), 0, np.cos(th13)]]) #second matrix\n",
    "U3 = np.array([[np.cos(th12), np.sin(th12), 0], [np.sin(th12), np.cos(th12), 0], [0, 0, 1]]) #third matrix\n",
    "rot_mat_3f = np.dot(U1, np.dot(U2, U3)) #final matrix"
   ]
  },
  {
   "cell_type": "markdown",
   "metadata": {},
   "source": [
    "## Probability function <a class=\"anchor\" id=\"prob\"></a>"
   ]
  },
  {
   "cell_type": "markdown",
   "metadata": {},
   "source": [
    "### Simplified probability function ($\\alpha \\neq \\beta$)\n",
    "Calculates probability of transition from an initial neutrino of flavour $\\alpha$ to a neutrino of flavour $\\beta$, where $\\alpha, \\beta = e, \\mu, \\tau$. However, $\\alpha \\neq \\beta$. Uses formula given in page 27 of [[2]](#2)."
   ]
  },
  {
   "cell_type": "code",
   "execution_count": 18,
   "metadata": {},
   "outputs": [
    {
     "name": "stdout",
     "output_type": "stream",
     "text": [
      "The probability that the electron neutrino remains such is 8.92 %\n",
      "The probability that the electron neutrino becomes a muon neutrino is 82.33 %\n",
      "The probability that the electron neutrino becomes a tau neutrino is 8.75 %\n"
     ]
    }
   ],
   "source": [
    "def prob_transition(alpha, beta, E, L):\n",
    "    \"\"\"Calculates the probability of a transition between an initial neutrino alpha to a neutrino beta\n",
    "    Takes as inputs the initial and final neutrino flavours alpha and beta, \n",
    "    the energy at which the neutrino is produced E (in eV),\n",
    "    and the distance travelled by the particle L (in km)\n",
    "    Returns the probability of the transition\"\"\"\n",
    "    \n",
    "    if (alpha == \"electron\" and beta == \"muon\") or (alpha == \"muon\" and beta == \"electron\"): \n",
    "        ar = np.array([th12, dm21_sq])\n",
    "    elif (alpha == \"electron\" and beta == \"tau\") or (alpha == \"tau\" and beta == \"electron\"):\n",
    "        ar = np.array([th13, dm31_sq])\n",
    "    elif (alpha == \"muon\" and beta == \"tau\") or (alpha == \"tau\" and beta == \"muon\"):\n",
    "        ar = np.array([th23, dm32_sq])\n",
    "    else:\n",
    "        return \"Error\"\n",
    "        \n",
    "    arg = 1.27*ar[1]*L/(E*10**(-9))\n",
    "        \n",
    "    P = np.sin(2*ar[0])*np.sin(2*ar[0])*np.sin(arg)*np.sin(arg)\n",
    "    \n",
    "    return P\n",
    "\n",
    "#test:\n",
    "pmn_test = prob_transition(\"electron\", \"muon\", E_sun_pp, AU)*100\n",
    "ptn_test = prob_transition(\"electron\", \"tau\", E_sun_pp, AU)*100\n",
    "print('The probability that the electron neutrino remains such is %.2f' % (100 - pmn_test - ptn_test), '%')\n",
    "print('The probability that the electron neutrino becomes a muon neutrino is %.2f' % pmn_test, '%')\n",
    "print('The probability that the electron neutrino becomes a tau neutrino is %.2f' % ptn_test, '%')"
   ]
  },
  {
   "cell_type": "markdown",
   "metadata": {},
   "source": [
    "### Complete probability function\n",
    "Includes case $\\alpha = \\beta$. "
   ]
  },
  {
   "cell_type": "code",
   "execution_count": 19,
   "metadata": {},
   "outputs": [
    {
     "data": {
      "text/plain": [
       "[array([45.30785624,  3.88511994, 38.00333481]),\n",
       " array([ 10.94731944, -10.32682369, -61.05511986]),\n",
       " array([ 30.94113531, -60.91013305,  29.24095673])]"
      ]
     },
     "execution_count": 19,
     "metadata": {},
     "output_type": "execute_result"
    }
   ],
   "source": [
    "def full_prob(L, E, alpha):\n",
    "    \"\"\"Calculates the probability of a neutrino of flavour alpha to remain of that same flavour or to change into another\n",
    "    flavour\n",
    "    Takes as inputs the distance L (in kilometers), the energy at which the neutrino is created E (in eV), \n",
    "    and the initial flavour alpha (\"electron\", \"muon\", or \"tau\")\n",
    "    Returns an array with three elements respectively representing the probability of the neutrino being an electron, muon\n",
    "    or tau neutrino\"\"\"\n",
    "    \n",
    "    # transform from string to integer\n",
    "    if alpha == \"electron\":\n",
    "        a = 0\n",
    "    elif alpha == \"muon\":\n",
    "        a = 1\n",
    "    elif alpha == \"tau\":\n",
    "        a = 2\n",
    "    else:\n",
    "        print('Error: choose from \"electron\", \"muon\" or \"tau\"')\n",
    "        \n",
    "    # calculate X_{ij} (argument of sine squared)\n",
    "    X = np.zeros((3, 3)) #store\n",
    "    for i in range(3):\n",
    "        for j in range(3):\n",
    "            X[i, j] = 1267000000*(mar_3f[i]*mar_3f[i] - mar_3f[j]*mar_3f[j]) * L / (4*E)\n",
    "        \n",
    "    # calculate probabilities\n",
    "    U = rot_mat_3f \n",
    "    vals = np.zeros(3) #store\n",
    "    for b in range(3): \n",
    "        sum_re_parts = 0\n",
    "        sum_im_parts = 0\n",
    "        for i in range(3):\n",
    "                for j in range(i):\n",
    "                    term = np.conj(U[a, i])*U[b, i]*U[a, j]*np.conj(U[b, j])\n",
    "                    re_part = np.real(term)*np.sin(X[i,j])*np.sin(X[i,j])\n",
    "                    im_part = np.imag(term)*np.sin(2*X[i,j])\n",
    "                    sum_re_parts += re_part\n",
    "                    sum_im_parts += im_part\n",
    "                    #print(b, i, j, term, sum_re_parts, sum_im_parts)\n",
    "        if b == a:\n",
    "            vals[b] = 1 - 4*sum_re_parts + 2*sum_im_parts\n",
    "        else:\n",
    "            vals[b] = 4*sum_re_parts - 2*sum_im_parts\n",
    "        #print(\"End\", (a, b))\n",
    "            \n",
    "    return vals\n",
    "\n",
    "#testp = full_prob(AU, E_sun_pp, \"electron\")*100\n",
    "[full_prob(AU, E_sun_pp, i)*100 for i in [\"electron\", \"muon\", \"tau\"]]"
   ]
  },
  {
   "cell_type": "markdown",
   "metadata": {},
   "source": [
    "#### Plot probability of electron neutrino changing flavour or staying the same as function of distance"
   ]
  },
  {
   "cell_type": "code",
   "execution_count": 20,
   "metadata": {},
   "outputs": [
    {
     "data": {
      "text/plain": [
       "<matplotlib.legend.Legend at 0x2703a90b708>"
      ]
     },
     "execution_count": 20,
     "metadata": {},
     "output_type": "execute_result"
    },
    {
     "data": {
      "image/png": "[encoded data removed]",
      "text/plain": [
       "<Figure size 432x288 with 1 Axes>"
      ]
     },
     "metadata": {
      "needs_background": "light"
     },
     "output_type": "display_data"
    }
   ],
   "source": [
    "arL = np.linspace(0, AU, 100)\n",
    "\n",
    "arP = np.zeros((np.size(arL), 3))\n",
    "for i,L in enumerate(arL):\n",
    "    arP[i] = full_prob(L, E_sun_pp, \"electron\")\n",
    "    \n",
    "plt.plot(arL, arP)\n",
    "plt.title(\"Probability of electron neutrino changing flavour or staying the same\")\n",
    "plt.ylabel(\"Probability\")\n",
    "plt.xlabel(\"Distance (km)\")\n",
    "plt.legend(\"e\" \"m\" \"t\")"
   ]
  },
  {
   "cell_type": "markdown",
   "metadata": {},
   "source": [
    "## Neutrinos in matter (MSW effect) <a class=\"anchor\" id=\"MSW\"></a>\n",
    "Simple case of oscillations between two neutrino species and assuming constant matter density. <br>\n",
    "Mathematics from [[4]](#4); value of the Fermi constant from [[5]](#5) (converted manually from $GeV^{-2}$ to $eV \\times m^3$)."
   ]
  },
  {
   "cell_type": "code",
   "execution_count": 21,
   "metadata": {},
   "outputs": [
    {
     "name": "stdout",
     "output_type": "stream",
     "text": [
      "The probability that the electron neutrino remains such is 100.00 %\n",
      "The probability that the electron neutrino becomes a muon neutrino is 0.00 %\n",
      "The probability that the electron neutrino becomes a tau neutrino is 0.00 %\n"
     ]
    }
   ],
   "source": [
    "def prob_MSW(alpha, beta, E, L, Ne):\n",
    "    \"\"\"Calculates the probability of a transition between an initial neutrino alpha to a neutrino beta in matter\n",
    "    considering the MSW effect\n",
    "    Takes as inputs the initial and final neutrino flavours alpha and beta, \n",
    "    the energy at which the neutrino is produced E (in eV), the distance travelled by the particle L (in km),\n",
    "    and the electron density Ne (in m^-3)\n",
    "    Returns the probability of the transition\"\"\"\n",
    "    \n",
    "    if (alpha == \"electron\" and beta == \"muon\") or (alpha == \"muon\" and beta == \"electron\"): \n",
    "        ar = np.array([th12, dm21_sq])\n",
    "    elif (alpha == \"electron\" and beta == \"tau\") or (alpha == \"tau\" and beta == \"electron\"):\n",
    "        ar = np.array([th13, dm31_sq])\n",
    "    elif (alpha == \"muon\" and beta == \"tau\") or (alpha == \"tau\" and beta == \"muon\"):\n",
    "        ar = np.array([th23, dm32_sq])\n",
    "    else:\n",
    "        return \"Error\"\n",
    "    \n",
    "    # Fermi constant\n",
    "    Gf = 1.1663787*10**(-23) # eV m^3\n",
    "    \n",
    "    sin2th_sq = np.sin(2*ar[0])*np.sin(2*ar[0])\n",
    "    cos2th = np.cos(2*ar[0])\n",
    "    \n",
    "    x = 2*np.sqrt(2)*Gf*Ne*E/ar[1]\n",
    "    \n",
    "    # effective mixing angle\n",
    "    sin2th_eff_sq = sin2th_sq / (sin2th_sq + (cos2th - x)*(cos2th - x))\n",
    "\n",
    "    #effective mass difference squared\n",
    "    eff_dm_sq = ar[1]*np.sqrt(sin2th_sq + (cos2th - x)*(cos2th - x))\n",
    "    \n",
    "    #argument of second sine squared\n",
    "    arg = 1.27*eff_dm_sq*L/(E*10**(-9))\n",
    "        \n",
    "    P = sin2th_eff_sq*np.sin(arg)*np.sin(arg)\n",
    "    \n",
    "    return P\n",
    "\n",
    "#test:\n",
    "pmn_sun_core = prob_MSW(\"electron\", \"muon\", E_sun_pp, r_sun_core, e_density_sun_core)*100\n",
    "ptn_sun_core = prob_MSW(\"electron\", \"tau\", E_sun_pp, r_sun_core, e_density_sun_core)*100\n",
    "print('The probability that the electron neutrino remains such is %.2f' % (100 - pmn_sun_core - ptn_sun_core), '%')\n",
    "print('The probability that the electron neutrino becomes a muon neutrino is %.2f' % pmn_sun_core, '%')\n",
    "print('The probability that the electron neutrino becomes a tau neutrino is %.2f' % ptn_sun_core, '%')"
   ]
  },
  {
   "cell_type": "markdown",
   "metadata": {},
   "source": [
    "## Problems\n",
    "* Oscillation length too small?\n",
    "* Probability function does not work well: outputs negative numbers and does not sum up to 1\n",
    "* MSW does not give any appreciable effect"
   ]
  },
  {
   "cell_type": "markdown",
   "metadata": {},
   "source": [
    "## References <a class=\"anchor\" id=\"references\"></a>\n",
    "\n",
    "[1] <a class=\"anchor\" id=\"1\"></a> Wikipedia, <i> Solar neutrino </i>,\n",
    "https://en.wikipedia.org/wiki/Solar_neutrino <br>\n",
    "[2] <a class=\"anchor\" id=\"2\"></a> Dr Emily Nurse, Dr Andreas Korn, Nuclear and Particle Physics notes, pp. 25-28 <br>\n",
    "[3] <a class=\"anchor\" id=\"3\"></a> http://www.nu-fit.org/ <br>\n",
    "[4] <a class=\"anchor\" id=\"4\"></a> https://www.nobelprize.org/uploads/2018/06/advanced-physicsprize2015.pdf <br>\n",
    "[5] <a class=\"anchor\" id=\"5\"></a> https://physics.nist.gov/cgi-bin/cuu/Value?gf <br>\n",
    "[6] <a class=\"anchor\" id=\"6\"></a> https://arxiv.org/pdf/1203.4898.pdf <br>\n",
    "[7] <a class=\"anchor\" id=\"7\"></a> Rosen, S.P., and Gelb, J.M. Mikheyev-Smirnov-Wolfenstein enhancement of oscillations as a possible solution to the solar-neutrino problem. United States: N. p., 1986. Web. doi:10.1103/PhysRevD.34.969 <br>\n",
    "[8] <a class=\"anchor\" id=\"8\"></a> https://iopscience.iop.org/article/10.1088/0004-637X/765/1/14/meta"
   ]
  },
  {
   "cell_type": "markdown",
   "metadata": {},
   "source": [
    "##### Return to top\n",
    "[click here](#top)"
   ]
  },
  {
   "cell_type": "code",
   "execution_count": null,
   "metadata": {},
   "outputs": [],
   "source": []
  }
 ],
 "metadata": {
  "kernelspec": {
   "display_name": "Python 3",
   "language": "python",
   "name": "python3"
  },
  "language_info": {
   "codemirror_mode": {
    "name": "ipython",
    "version": 3
   },
   "file_extension": ".py",
   "mimetype": "text/x-python",
   "name": "python",
   "nbconvert_exporter": "python",
   "pygments_lexer": "ipython3",
   "version": "3.7.6"
  }
 },
 "nbformat": 4,
 "nbformat_minor": 2
}
