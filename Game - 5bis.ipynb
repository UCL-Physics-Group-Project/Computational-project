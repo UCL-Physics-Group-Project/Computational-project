{
 "cells": [
  {
   "cell_type": "code",
   "execution_count": 1,
   "metadata": {},
   "outputs": [
    {
     "data": {
      "text/html": [
       "<div id=\"glowscript\" class=\"glowscript\"></div>"
      ],
      "text/plain": [
       "<IPython.core.display.HTML object>"
      ]
     },
     "metadata": {},
     "output_type": "display_data"
    },
    {
     "data": {
      "application/javascript": [
       "if (typeof Jupyter !== \"undefined\") { window.__context = { glowscript_container: $(\"#glowscript\").removeAttr(\"id\")};}else{ element.textContent = ' ';}"
      ],
      "text/plain": [
       "<IPython.core.display.Javascript object>"
      ]
     },
     "metadata": {},
     "output_type": "display_data"
    }
   ],
   "source": [
    "#####################################   Importing data   #########################################################################################\n",
    "\n",
    "import numpy as np\n",
    "from vpython import *\n",
    "%matplotlib notebook\n",
    "import matplotlib.pyplot as plt\n",
    "from ipywidgets import interactive\n",
    "from IPython.display import display\n",
    "from matplotlib.widgets import Slider, Button\n",
    "from tkinter import *\n",
    "\n",
    "###############################################################################################################################"
   ]
  },
  {
   "cell_type": "code",
   "execution_count": 2,
   "metadata": {},
   "outputs": [],
   "source": [
    "########neutrino function########\n",
    "\n",
    "# mixing factors (converted from degrees to radians)\n",
    "th12 = np.radians(33.82)\n",
    "th23 = np.radians(48.3)\n",
    "th13 = np.radians(8.61)\n",
    "delta_CP = np.radians(222)\n",
    "\n",
    "# mass differences\n",
    "dm21_sq = 7.53*10**(-5) # eV^2\n",
    "dm32_sq = 2.52*10**(-3) # eV^2\n",
    "\n",
    "# mass eigenstates\n",
    "m1 = 0.75 # eV\n",
    "m2 = np.sqrt(m1*m1 + dm21_sq) # eV\n",
    "m3 = np.sqrt(m2*m2 + dm32_sq) # eV\n",
    "\n",
    "#calculate third mass difference squared\n",
    "dm31_sq = m3*m3 - m1*m1 # eV^2\n",
    "\n",
    "# set energy values\n",
    "E_sun_pp = 4*10**5 # eV \n",
    "E_atm=10**11 #eV\n",
    "E_acc=10**9 #eV\n",
    "\n",
    "# important constants:\n",
    "# speed of light\n",
    "c = 299792.458 # km s^-1 \n",
    "# Planck constant\n",
    "hbar = 6.582119569*10**(-16) # eV*s\n",
    "# Astronomical unit (i.e. the distance between the Sun and the Earth)\n",
    "AU = 149597870.700 # km\n",
    "\n",
    "\n",
    "\n",
    "def prob_transition(alpha, beta, E, L):\n",
    "    \"\"\"Calculates the probability of a transition between an initial neutrino alpha to a neutrino beta\n",
    "    Takes as inputs the initial and final neutrino flavours alpha and beta, \n",
    "    the energy at which the neutrino is produced E (in eV),\n",
    "    and the distance travelled by the particle L (in km)\n",
    "    Returns the probability of the transition\"\"\"\n",
    "    \n",
    "    if (alpha == \"electron\" and beta == \"muon\") or (alpha == \"muon\" and beta == \"electron\"): \n",
    "        ar = np.array([th12, dm21_sq])\n",
    "        arg = 1.27*ar[1]*L/E\n",
    "        P = np.sin(2*ar[0])*np.sin(2*ar[0])*np.sin(arg)*np.sin(arg)\n",
    "        \n",
    "    elif (alpha == \"electron\" and beta == \"tau\") or (alpha == \"tau\" and beta == \"electron\"):\n",
    "        ar = np.array([th13, dm31_sq])\n",
    "        arg = 1.27*ar[1]*L/E\n",
    "        P = np.sin(2*ar[0])*np.sin(2*ar[0])*np.sin(arg)*np.sin(arg)\n",
    "        \n",
    "    elif (alpha == \"muon\" and beta == \"tau\") or (alpha == \"tau\" and beta == \"muon\"):\n",
    "        ar = np.array([th23, dm32_sq])\n",
    "        arg = 1.27*ar[1]*L/E\n",
    "        P = np.sin(2*ar[0])*np.sin(2*ar[0])*np.sin(arg)*np.sin(arg)\n",
    "        \n",
    "    elif (alpha == beta):\n",
    "        \n",
    "        if (alpha == \"electron\"):\n",
    "            ar1 = np.array([th12, dm21_sq])\n",
    "            ar2 = np.array([th13, dm31_sq])\n",
    "            \n",
    "        elif (alpha == \"muon\"):\n",
    "            ar1 = np.array([th12, dm21_sq])\n",
    "            ar2 = np.array([th23, dm32_sq])\n",
    "            \n",
    "        elif (alpha == \"tau\"):\n",
    "            ar1 = np.array([th13, dm31_sq])\n",
    "            ar2 = np.array([th23, dm32_sq])\n",
    "        \n",
    "        arg1 = 1.27*ar1[1]*L/E\n",
    "        arg2 = 1.27*ar2[1]*L/E\n",
    "        \n",
    "        P1 = np.sin(2*ar1[0])*np.sin(2*ar1[0])*np.sin(arg1)*np.sin(arg1)\n",
    "        P2 = np.sin(2*ar2[0])*np.sin(2*ar2[0])*np.sin(arg2)*np.sin(arg2)\n",
    "        \n",
    "        if ((P1 + P2) < 1) :\n",
    "            P = 1 - (P1 + P2)\n",
    "            \n",
    "        else:\n",
    "            P = 0\n",
    "    \n",
    "    else:\n",
    "        return \"Error\"\n",
    "    \n",
    "    return P"
   ]
  },
  {
   "cell_type": "code",
   "execution_count": 3,
   "metadata": {},
   "outputs": [
    {
     "data": {
      "text/html": [
       "<div id=\"glowscript\" class=\"glowscript\"></div>"
      ],
      "text/plain": [
       "<IPython.core.display.HTML object>"
      ]
     },
     "metadata": {},
     "output_type": "display_data"
    },
    {
     "data": {
      "application/javascript": [
       "if (typeof Jupyter !== \"undefined\") { window.__context = { glowscript_container: $(\"#glowscript\").removeAttr(\"id\")};}else{ element.textContent = ' ';}"
      ],
      "text/plain": [
       "<IPython.core.display.Javascript object>"
      ]
     },
     "metadata": {},
     "output_type": "display_data"
    },
    {
     "data": {
      "application/javascript": [
       "if (typeof Jupyter !== \"undefined\") {require.undef(\"nbextensions/vpython_libraries/glow.min\");}else{element.textContent = ' ';}"
      ],
      "text/plain": [
       "<IPython.core.display.Javascript object>"
      ]
     },
     "metadata": {},
     "output_type": "display_data"
    },
    {
     "data": {
      "application/javascript": [
       "if (typeof Jupyter !== \"undefined\") {require.undef(\"nbextensions/vpython_libraries/glowcomm\");}else{element.textContent = ' ';}"
      ],
      "text/plain": [
       "<IPython.core.display.Javascript object>"
      ]
     },
     "metadata": {},
     "output_type": "display_data"
    },
    {
     "data": {
      "application/javascript": [
       "if (typeof Jupyter !== \"undefined\") {require.undef(\"nbextensions/vpython_libraries/jquery-ui.custom.min\");}else{element.textContent = ' ';}"
      ],
      "text/plain": [
       "<IPython.core.display.Javascript object>"
      ]
     },
     "metadata": {},
     "output_type": "display_data"
    },
    {
     "data": {
      "application/javascript": [
       "if (typeof Jupyter !== \"undefined\") {require([\"nbextensions/vpython_libraries/glow.min\"], function(){console.log(\"GLOW LOADED\");});}else{element.textContent = ' ';}"
      ],
      "text/plain": [
       "<IPython.core.display.Javascript object>"
      ]
     },
     "metadata": {},
     "output_type": "display_data"
    },
    {
     "data": {
      "application/javascript": [
       "if (typeof Jupyter !== \"undefined\") {require([\"nbextensions/vpython_libraries/glowcomm\"], function(){console.log(\"GLOWCOMM LOADED\");});}else{element.textContent = ' ';}"
      ],
      "text/plain": [
       "<IPython.core.display.Javascript object>"
      ]
     },
     "metadata": {},
     "output_type": "display_data"
    },
    {
     "data": {
      "application/javascript": [
       "if (typeof Jupyter !== \"undefined\") {require([\"nbextensions/vpython_libraries/jquery-ui.custom.min\"], function(){console.log(\"JQUERY LOADED\");});}else{element.textContent = ' ';}"
      ],
      "text/plain": [
       "<IPython.core.display.Javascript object>"
      ]
     },
     "metadata": {},
     "output_type": "display_data"
    }
   ],
   "source": [
    "########################################   GAME   ############################################################################################################################################\n",
    "\n",
    "\n",
    "####### Setting up initial data #######\n",
    "\n",
    "g = 30               # gravitational acceleration (m.s^-2)\n",
    "mass_bird = 1        # mass of the bird (kg)\n",
    "radius_bird = 0.2    # radius of the bird (m)\n",
    "x0 = 0.0             # initial x-coordinate of the bird\n",
    "y0 = 0.6 + radius_bird # initial y-coordinate of the bird\n",
    "p = 200              # density of the target (kg.m^-3) ~ density of a balsa type of wood\n",
    "contact_time = 0.01  # contact time of the impact between the bird and the target (sec)\n",
    "dt = 0.01            # time interval for the animations (sec)\n",
    "d_angle = 0.01       # angle interval for the animation of the toppling of the target (rad)\n",
    "t_applied = 0        # setting up the initial value of the applied torque for the while loop\n",
    "v0=10\n",
    "theta=45\n",
    "\n",
    "bird_color = [color.blue,color.green,color.red]\n",
    "bird_mass_topple = [0.3,1,1.8]\n",
    "\n",
    "\n",
    "\n",
    "##### Defining the function of the trajectory y(x) #####\n",
    "\n",
    "def trajectory(x_pos):\n",
    "    '''\n",
    "    Calculates the trajectory (y coordinate) at a given horizontal distance (x coordinate) from the lauch point.\n",
    "    \n",
    "    Input: \n",
    "     - x_pos: x coordinate of the point where the trajectory is required.\n",
    "     \n",
    "    Output:\n",
    "     - trajectory: y coordinate of the particle at this point.\n",
    "    '''\n",
    "    \n",
    "    trajectory = -g*(x_pos-x0)**2 / (2*v0**2*np.cos(theta)**2) + np.tan(theta)*(x_pos-x0) + y0\n",
    "    \n",
    "    return trajectory    \n",
    "\n",
    "\n",
    "####### Main code of the game ####### \n",
    "\n",
    "V_center = vector(8,0,0)\n",
    "V_camera = vector(4,2,12)\n",
    "V_title = vector(2,6,-2)\n",
    "\n",
    "# Setting up the scene \n",
    "scene = canvas(width=1000, height=700, center=V_center, range=8, background = color.cyan) # scene where the game animations will be displayed\n",
    "scene.camera.pos = V_camera                                                               # position of the camera (from where the player sees the game)\n",
    "scene.forward = V_center - scene.camera.pos                                               # axis of the camera (in which direction the player is looking)\n",
    "scene.camera.axis = V_center - scene.camera.pos                                           # axis of the camera (in which direction the player is looking)\n",
    "scene.userzoom = False\n",
    "scene.userspin = False\n",
    "    \n",
    "# positioning the ground of the animation\n",
    "ground = box(pos= V_center, length=100, height=0.1, width=100, texture = textures.metal)\n",
    "    \n",
    "# positioning the target at a random position\n",
    "target = box(pos=vector((2*random()+1)*7,1,0), axis=vector(1,0,0), length= 0.5, height= 3 + random(), width=0.5, color = color.black)\n",
    "\n",
    "# box\n",
    "pedestal = box(pos = vector(0,0.35,0), length = 1, width = 2, height = 0.5, texture = textures.wood)\n",
    "\n",
    "# positioning the bird on the origin of the scene\n",
    "global bird\n",
    "bird = sphere(pos = vector(x0,y0,0), radius = 0.2, color=color.blue, make_trail = True, trail_color = color.blue)\n",
    "\n",
    "# Text\n",
    "label_title = label(text = 'ANGRY NEUTRINOS',pos = vector(8,7,0), color = color.black, box = False, background = color.cyan , height = 40, opacity = 0)\n",
    "label_level = label(text = 'Level 1' , pos = vector(8,6,0), color = color.black, box = False, background = color.cyan , height = 30, opacity = 0)\n",
    "      \n",
    "# Initial data with respect to the scene set up \n",
    "mass_target = p*(target.length*target.width*target.height)  # setting up the mass of the target (m = p*V)\n",
    "hit_tolerance = radius_bird + target.length/2               # computing the value of the hit tolerance : x-distance between bird.pos and target.pos at the time of the collision\n",
    "x_impact = target.pos.x - hit_tolerance                     # x-coordinate of the impact point\n",
    "t_restoring = mass_target*g*target.length/2                 # computing the magnitude of the restoring torque of the target\n",
    "\n",
    "global c\n",
    "c = points(radius = 3)   \n",
    " \n",
    "def vector_list():   \n",
    "    global v0\n",
    "    global theta\n",
    "    Vectors=[]\n",
    "    xpoints_slider=np.linspace(0,3,15)\n",
    "    for x in xpoints_slider:\n",
    "        Vectors.append(vector(x,trajectory(x),0))\n",
    "    return Vectors\n",
    "\n",
    "\n",
    "\n",
    "\n",
    "#sliders to adjust speed and angle\n",
    "def setV(v):\n",
    "    global v0\n",
    "    wt1.text = '{:1.0f}'.format(v.value)\n",
    "    v0 = v.value\n",
    "    c.clear()\n",
    "    c.append(vector_list())\n",
    "    \n",
    "sl1 = slider(min = 10 , max = 30 , value = 10, length = 220 , bind = setV, right = 15)\n",
    "wt1 = wtext(text = '{:1.0f}'.format(sl1.value)) \n",
    "    \n",
    "def setTheta(t):\n",
    "    global theta\n",
    "    wt2.text = '{:1.0f}'.format(t.value)\n",
    "    theta = np.radians(t.value)\n",
    "    c.clear()\n",
    "    c.append(vector_list())\n",
    "    \n",
    "sl2 = slider(min = 0 , max = 90 , value = 45, length = 220 , bind = setTheta, right = 15)\n",
    "wt2 = wtext(text = '{:1.0f}'.format(sl2.value)) \n",
    "\n",
    "def setT(t):\n",
    "    runanim()\n",
    "\n",
    "sl3 = slider(min = 0 , max = 1, value = 0, length = 100 , bind = setT)\n",
    "wt3 = wtext(text = \"GO\")\n",
    "    \n",
    "def runanim():\n",
    "    \n",
    "    global bird\n",
    "    global v0\n",
    "    global theta\n",
    "    global target\n",
    "    global sl3\n",
    "    global c\n",
    "    \n",
    "    c.clear()\n",
    "    \n",
    "    x = x0\n",
    "    y = y0\n",
    "    t = 0\n",
    "    distance_covered = 0\n",
    "            \n",
    "    # while the ball hasn't reached the target\n",
    "    while x <= x_impact and y > 0 :\n",
    "                \n",
    "        # time increases by dt\n",
    "        rate(25)\n",
    "        t += dt\n",
    "\n",
    "        distance_covered += np.sqrt(abs(x - (x0 + v0*t*np.cos(theta)))**2 + abs(y - (y0 + v0*t*np.sin(theta) - 0.5*g*t**2))**2)\n",
    "\n",
    "        prob_elec = prob_transition(\"muon\", \"electron\", E_sun_pp , distance_covered*1.5*AU)\n",
    "        prob_muon = prob_transition(\"muon\", \"muon\", E_sun_pp , distance_covered*1.5*AU)\n",
    "        prob_tau = prob_transition(\"muon\", \"tau\", E_sun_pp , distance_covered*1.5*AU)\n",
    "\n",
    "        prob = [prob_muon,prob_tau,prob_elec]\n",
    "        prob_max = np.amax(prob)\n",
    "        index_max = prob.index(prob_max)\n",
    "\n",
    "        mass_topple = bird_mass_topple[index_max]\n",
    "        bird.color = bird_color[index_max]\n",
    "        bird.trail_color = bird_color[index_max]\n",
    "\n",
    "        x = x0 + v0*t*np.cos(theta)  # new x-position of the bird\n",
    "        y = y0 + v0*t*np.sin(theta) - 0.5*g*t**2  # new y-position of the bird\n",
    "        bird.pos = vector(x,y,0)     # updating the position of the bird\n",
    "    \n",
    "    # if the bird collides with the target\n",
    "    if target.height + bird.radius > y > 0 :\n",
    "\n",
    "        c_rot = target.pos + vector(target.length/2,-target.height/2,0)   # center of rotation position\n",
    "        bird_momentum = vector(mass_bird*v0*np.cos(theta) , mass_bird*v0*np.sin(theta) - mass_bird*g*t , 0) # momentum of the bird at the time of the impact\n",
    "        vector_da = vector(x_impact,trajectory(x_impact),0) - c_rot       # vector from the point of rotation to the point of impact\n",
    "        t_applied_vector = cross(bird_momentum/contact_time,vector_da)    # torque applied by the bird on the target\n",
    "        t_applied = mag(t_applied_vector)                                 # magnitude of the torque applied \n",
    "            \n",
    "        # if the applied torque is enough to topple the target \n",
    "        if t_applied > t_restoring :\n",
    "\n",
    "            s = target.pos\n",
    "            w = bird.pos\n",
    "            alpha = 0      # anticlockwise angle of the horizontal axis to the axis of the target                         \n",
    "            betha = np.pi - np.arccos((target.length/2)/mag(s-c_rot))                    # anticlockwise angle of the horizontal axis to the vector from the center of rotation to the position of the target \n",
    "            gamma = np.pi - np.arccos((hit_tolerance + target.length/2) / mag(w-c_rot))  # anticlockwise angle of the horizontal axis to the vector from the center of rotation to the position of the bird\n",
    "\n",
    "            # while the toppling of the target isn't finished\n",
    "            while alpha >= -np.pi/2:\n",
    "                rate(25)\n",
    "                betha -= d_angle    # the angle decreases by d_angle\n",
    "                alpha -= d_angle    # '        '\n",
    "                gamma -= d_angle    # '        '\n",
    "                o = vector(np.cos(alpha),np.sin(alpha),0)                       # computing the new axis vector of the target\n",
    "                u = c_rot + vector(np.cos(betha),np.sin(betha),0)*mag(s-c_rot)  # computing the new position vector of the target\n",
    "                z = c_rot + vector(np.cos(gamma),np.sin(gamma),0)*mag(w-c_rot)  # computing the new position vector of the bird\n",
    "                target.pos = u        # updating the position of the target \n",
    "                target.axis = o      # updating the axis of the target\n",
    "                bird.pos = z         # updating the position of the bird\n",
    "                    \n",
    "        # if the applied torque isn't enough to topple the target --> falling of the bird following a vertical straight line\n",
    "        else :\n",
    "                \n",
    "            # while the bird is still above the ground \n",
    "            while y > 0 :\n",
    "                    \n",
    "                rate(25)\n",
    "                t += dt                                     # time increases by dt                    \n",
    "                y = -0.5*g*t**2 + trajectory(x)             # new y-position of the bird\n",
    "                bird.pos = vector(x,y,0)                    # updating the position of the bird\n",
    "\n",
    "    # if the bird doesn't collide with the target \n",
    "    else :\n",
    "\n",
    "        # while the bird is above the ground \n",
    "        while x < 35 and y >= 0:\n",
    "                \n",
    "            # time increases by dt\n",
    "            rate(25)\n",
    "            t += dt\n",
    "\n",
    "            distance_covered += np.sqrt(abs(x - (x0 + v0*t*np.cos(theta)))**2 + abs(y - (y0 + v0*t*np.sin(theta) - 0.5*g*t**2))**2)\n",
    "\n",
    "            prob_elec = prob_transition(\"muon\", \"electron\", E_sun_pp , distance_covered*1.5*AU)\n",
    "            prob_muon = prob_transition(\"muon\", \"muon\", E_sun_pp , distance_covered*1.5*AU)\n",
    "            prob_tau = prob_transition(\"muon\", \"tau\", E_sun_pp , distance_covered*1.5*AU)\n",
    "\n",
    "            prob = [prob_muon,prob_tau,prob_elec]\n",
    "            prob_max = np.amax(prob)\n",
    "            index_max = prob.index(prob_max)\n",
    "\n",
    "            mass_topple = bird_mass_topple[index_max]\n",
    "            bird.color = bird_color[index_max]\n",
    "            bird.trail_color = bird_color[index_max]\n",
    "\n",
    "            x = x0 + v0*t*np.cos(theta)  # new x-position of the bird\n",
    "            y = y0 + v0*t*np.sin(theta) - 0.5*g*t**2  # new y-position of the bird\n",
    "            bird.pos = vector(x,y,0)     # updating the position of the bird\n",
    "      \n",
    "    # Initializing\n",
    "    bird.clear_trail()\n",
    "    bird.make_trail = False\n",
    "    bird.color = color.blue\n",
    "    bird.pos = vector(x0,y0,0)\n",
    "    bird.make_trail = True\n",
    "    \n",
    "    sl3.value = 0\n",
    "    \n",
    "\n",
    "##################################################################################################################################################################################\n"
   ]
  }
 ],
 "metadata": {
  "kernelspec": {
   "display_name": "Python 3",
   "language": "python",
   "name": "python3"
  },
  "language_info": {
   "codemirror_mode": {
    "name": "ipython",
    "version": 3
   },
   "file_extension": ".py",
   "mimetype": "text/x-python",
   "name": "python",
   "nbconvert_exporter": "python",
   "pygments_lexer": "ipython3",
   "version": "3.7.4"
  }
 },
 "nbformat": 4,
 "nbformat_minor": 2
}
